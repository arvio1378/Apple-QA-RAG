{
 "cells": [
  {
   "cell_type": "code",
   "execution_count": 2,
   "id": "88523d20",
   "metadata": {},
   "outputs": [],
   "source": [
    "import pandas as pd\n",
    "import os\n",
    "import re\n",
    "from langchain.text_splitter import RecursiveCharacterTextSplitter\n",
    "from langchain.embeddings import HuggingFaceEmbeddings\n",
    "from langchain.vectorstores import Chroma\n",
    "from langchain.chains import RetrievalQA\n",
    "from langchain.llms import Ollama\n",
    "from langchain.schema import Document"
   ]
  },
  {
   "cell_type": "markdown",
   "id": "4ab9c66c",
   "metadata": {},
   "source": [
    "# Load Dataset"
   ]
  },
  {
   "cell_type": "code",
   "execution_count": 3,
   "id": "c54464a1",
   "metadata": {},
   "outputs": [
    {
     "data": {
      "text/html": [
       "<div>\n",
       "<style scoped>\n",
       "    .dataframe tbody tr th:only-of-type {\n",
       "        vertical-align: middle;\n",
       "    }\n",
       "\n",
       "    .dataframe tbody tr th {\n",
       "        vertical-align: top;\n",
       "    }\n",
       "\n",
       "    .dataframe thead th {\n",
       "        text-align: right;\n",
       "    }\n",
       "</style>\n",
       "<table border=\"1\" class=\"dataframe\">\n",
       "  <thead>\n",
       "    <tr style=\"text-align: right;\">\n",
       "      <th></th>\n",
       "      <th>Question</th>\n",
       "      <th>Answer</th>\n",
       "    </tr>\n",
       "  </thead>\n",
       "  <tbody>\n",
       "    <tr>\n",
       "      <th>0</th>\n",
       "      <td>How do I take a screenshot on an iPhone?</td>\n",
       "      <td>To take a screenshot on an iPhone, press and h...</td>\n",
       "    </tr>\n",
       "    <tr>\n",
       "      <th>1</th>\n",
       "      <td>How do I change my wallpaper on an iPhone?</td>\n",
       "      <td>To change your wallpaper on an iPhone, go to S...</td>\n",
       "    </tr>\n",
       "    <tr>\n",
       "      <th>2</th>\n",
       "      <td>How do I make a phone call on an iPhone?</td>\n",
       "      <td>To make a phone call on an iPhone, open the Ph...</td>\n",
       "    </tr>\n",
       "    <tr>\n",
       "      <th>3</th>\n",
       "      <td>How do I send a text message on an iPhone?</td>\n",
       "      <td>To send a text message on an iPhone, open the ...</td>\n",
       "    </tr>\n",
       "    <tr>\n",
       "      <th>4</th>\n",
       "      <td>How do I use Siri on an iPhone?</td>\n",
       "      <td>To use Siri on an iPhone, press and hold the H...</td>\n",
       "    </tr>\n",
       "    <tr>\n",
       "      <th>...</th>\n",
       "      <td>...</td>\n",
       "      <td>...</td>\n",
       "    </tr>\n",
       "    <tr>\n",
       "      <th>1000</th>\n",
       "      <td>How to clear cache on Safari on my Mac for imp...</td>\n",
       "      <td>Go to Safari &gt; Preferences &gt; Privacy &gt; Manage ...</td>\n",
       "    </tr>\n",
       "    <tr>\n",
       "      <th>1001</th>\n",
       "      <td>What to do if my AirPods Pro have low volume?</td>\n",
       "      <td>Clean the earbuds, ensure they are correctly s...</td>\n",
       "    </tr>\n",
       "    <tr>\n",
       "      <th>1002</th>\n",
       "      <td>Can I use a wireless trackpad with my Mac for ...</td>\n",
       "      <td>Yes, you can use a wireless Bluetooth trackpad...</td>\n",
       "    </tr>\n",
       "    <tr>\n",
       "      <th>1003</th>\n",
       "      <td>How to transfer files from my Mac to my iPhone...</td>\n",
       "      <td>Use apps like Files, iCloud Drive, or third-pa...</td>\n",
       "    </tr>\n",
       "    <tr>\n",
       "      <th>1004</th>\n",
       "      <td>Is it possible to use Siri on my Mac without c...</td>\n",
       "      <td>Yes, you can enable \"Hey Siri\" on your Mac to ...</td>\n",
       "    </tr>\n",
       "  </tbody>\n",
       "</table>\n",
       "<p>1005 rows × 2 columns</p>\n",
       "</div>"
      ],
      "text/plain": [
       "                                               Question  \\\n",
       "0              How do I take a screenshot on an iPhone?   \n",
       "1            How do I change my wallpaper on an iPhone?   \n",
       "2              How do I make a phone call on an iPhone?   \n",
       "3            How do I send a text message on an iPhone?   \n",
       "4                       How do I use Siri on an iPhone?   \n",
       "...                                                 ...   \n",
       "1000  How to clear cache on Safari on my Mac for imp...   \n",
       "1001      What to do if my AirPods Pro have low volume?   \n",
       "1002  Can I use a wireless trackpad with my Mac for ...   \n",
       "1003  How to transfer files from my Mac to my iPhone...   \n",
       "1004  Is it possible to use Siri on my Mac without c...   \n",
       "\n",
       "                                                 Answer  \n",
       "0     To take a screenshot on an iPhone, press and h...  \n",
       "1     To change your wallpaper on an iPhone, go to S...  \n",
       "2     To make a phone call on an iPhone, open the Ph...  \n",
       "3     To send a text message on an iPhone, open the ...  \n",
       "4     To use Siri on an iPhone, press and hold the H...  \n",
       "...                                                 ...  \n",
       "1000  Go to Safari > Preferences > Privacy > Manage ...  \n",
       "1001  Clean the earbuds, ensure they are correctly s...  \n",
       "1002  Yes, you can use a wireless Bluetooth trackpad...  \n",
       "1003  Use apps like Files, iCloud Drive, or third-pa...  \n",
       "1004  Yes, you can enable \"Hey Siri\" on your Mac to ...  \n",
       "\n",
       "[1005 rows x 2 columns]"
      ]
     },
     "execution_count": 3,
     "metadata": {},
     "output_type": "execute_result"
    }
   ],
   "source": [
    "file_path = \"apple.csv\"\n",
    "df = pd.read_csv(file_path)\n",
    "df"
   ]
  },
  {
   "cell_type": "markdown",
   "id": "8daac06e",
   "metadata": {},
   "source": [
    "# Cleaning dataset"
   ]
  },
  {
   "cell_type": "code",
   "execution_count": 4,
   "id": "952362f9",
   "metadata": {},
   "outputs": [
    {
     "data": {
      "text/plain": [
       "np.int64(108)"
      ]
     },
     "execution_count": 4,
     "metadata": {},
     "output_type": "execute_result"
    }
   ],
   "source": [
    "# Cek jumlah data yang duplikat\n",
    "df.duplicated().sum()"
   ]
  },
  {
   "cell_type": "code",
   "execution_count": 5,
   "id": "55399bcd",
   "metadata": {},
   "outputs": [
    {
     "data": {
      "text/html": [
       "<div>\n",
       "<style scoped>\n",
       "    .dataframe tbody tr th:only-of-type {\n",
       "        vertical-align: middle;\n",
       "    }\n",
       "\n",
       "    .dataframe tbody tr th {\n",
       "        vertical-align: top;\n",
       "    }\n",
       "\n",
       "    .dataframe thead th {\n",
       "        text-align: right;\n",
       "    }\n",
       "</style>\n",
       "<table border=\"1\" class=\"dataframe\">\n",
       "  <thead>\n",
       "    <tr style=\"text-align: right;\">\n",
       "      <th></th>\n",
       "      <th>Question</th>\n",
       "      <th>Answer</th>\n",
       "    </tr>\n",
       "  </thead>\n",
       "  <tbody>\n",
       "    <tr>\n",
       "      <th>80</th>\n",
       "      <td>How do I use the built-in Clock app to set mul...</td>\n",
       "      <td>To set multiple alarms, open the Clock app and...</td>\n",
       "    </tr>\n",
       "    <tr>\n",
       "      <th>82</th>\n",
       "      <td>How do I utilize the Maps app to explore publi...</td>\n",
       "      <td>To explore public transportation options, open...</td>\n",
       "    </tr>\n",
       "    <tr>\n",
       "      <th>83</th>\n",
       "      <td>How do I take advantage of the Safari web brow...</td>\n",
       "      <td>To save a web page for offline reading, open t...</td>\n",
       "    </tr>\n",
       "    <tr>\n",
       "      <th>84</th>\n",
       "      <td>How do I personalize my iPhone with custom sou...</td>\n",
       "      <td>To assign custom sounds to contacts, open the ...</td>\n",
       "    </tr>\n",
       "    <tr>\n",
       "      <th>85</th>\n",
       "      <td>How do I adjust my iPhone's accessibility sett...</td>\n",
       "      <td>To adjust accessibility settings, go to Settin...</td>\n",
       "    </tr>\n",
       "  </tbody>\n",
       "</table>\n",
       "</div>"
      ],
      "text/plain": [
       "                                             Question  \\\n",
       "80  How do I use the built-in Clock app to set mul...   \n",
       "82  How do I utilize the Maps app to explore publi...   \n",
       "83  How do I take advantage of the Safari web brow...   \n",
       "84  How do I personalize my iPhone with custom sou...   \n",
       "85  How do I adjust my iPhone's accessibility sett...   \n",
       "\n",
       "                                               Answer  \n",
       "80  To set multiple alarms, open the Clock app and...  \n",
       "82  To explore public transportation options, open...  \n",
       "83  To save a web page for offline reading, open t...  \n",
       "84  To assign custom sounds to contacts, open the ...  \n",
       "85  To adjust accessibility settings, go to Settin...  "
      ]
     },
     "execution_count": 5,
     "metadata": {},
     "output_type": "execute_result"
    }
   ],
   "source": [
    "df[df.duplicated].head()"
   ]
  },
  {
   "cell_type": "code",
   "execution_count": 6,
   "id": "752a2209",
   "metadata": {},
   "outputs": [],
   "source": [
    "# hapus data yang duplikat\n",
    "df = df.drop_duplicates()"
   ]
  },
  {
   "cell_type": "code",
   "execution_count": 7,
   "id": "996b8f73",
   "metadata": {},
   "outputs": [
    {
     "data": {
      "text/plain": [
       "np.int64(0)"
      ]
     },
     "execution_count": 7,
     "metadata": {},
     "output_type": "execute_result"
    }
   ],
   "source": [
    "# Cek jumlah data yang duplikat\n",
    "df.duplicated().sum()"
   ]
  },
  {
   "cell_type": "code",
   "execution_count": 8,
   "id": "cd08753a",
   "metadata": {},
   "outputs": [
    {
     "data": {
      "text/plain": [
       "Question    0\n",
       "Answer      1\n",
       "dtype: int64"
      ]
     },
     "execution_count": 8,
     "metadata": {},
     "output_type": "execute_result"
    }
   ],
   "source": [
    "# cek missing values\n",
    "df.isna().sum()"
   ]
  },
  {
   "cell_type": "code",
   "execution_count": 9,
   "id": "d9de3964",
   "metadata": {},
   "outputs": [
    {
     "data": {
      "text/html": [
       "<div>\n",
       "<style scoped>\n",
       "    .dataframe tbody tr th:only-of-type {\n",
       "        vertical-align: middle;\n",
       "    }\n",
       "\n",
       "    .dataframe tbody tr th {\n",
       "        vertical-align: top;\n",
       "    }\n",
       "\n",
       "    .dataframe thead th {\n",
       "        text-align: right;\n",
       "    }\n",
       "</style>\n",
       "<table border=\"1\" class=\"dataframe\">\n",
       "  <thead>\n",
       "    <tr style=\"text-align: right;\">\n",
       "      <th></th>\n",
       "      <th>Question</th>\n",
       "      <th>Answer</th>\n",
       "    </tr>\n",
       "  </thead>\n",
       "  <tbody>\n",
       "    <tr>\n",
       "      <th>270</th>\n",
       "      <td>Sure, here is a dataset around how to do thing...</td>\n",
       "      <td>NaN</td>\n",
       "    </tr>\n",
       "  </tbody>\n",
       "</table>\n",
       "</div>"
      ],
      "text/plain": [
       "                                              Question Answer\n",
       "270  Sure, here is a dataset around how to do thing...    NaN"
      ]
     },
     "execution_count": 9,
     "metadata": {},
     "output_type": "execute_result"
    }
   ],
   "source": [
    "# lihat baris yang kosong\n",
    "df_missing = df[df.isna().any(axis=1)]\n",
    "df_missing"
   ]
  },
  {
   "cell_type": "code",
   "execution_count": 10,
   "id": "e16b250b",
   "metadata": {},
   "outputs": [],
   "source": [
    "# hapus missing values\n",
    "df = df.dropna()"
   ]
  },
  {
   "cell_type": "code",
   "execution_count": 11,
   "id": "35c71667",
   "metadata": {},
   "outputs": [
    {
     "data": {
      "text/plain": [
       "Question    0\n",
       "Answer      0\n",
       "dtype: int64"
      ]
     },
     "execution_count": 11,
     "metadata": {},
     "output_type": "execute_result"
    }
   ],
   "source": [
    "# cek missing values\n",
    "df.isna().sum()"
   ]
  },
  {
   "cell_type": "code",
   "execution_count": 12,
   "id": "b5f6b57b",
   "metadata": {},
   "outputs": [
    {
     "name": "stderr",
     "output_type": "stream",
     "text": [
      "C:\\Users\\Arvio\\AppData\\Local\\Temp\\ipykernel_14928\\2150622428.py:18: FutureWarning: DataFrame.applymap has been deprecated. Use DataFrame.map instead.\n",
      "  df = df.applymap(clean_text)\n"
     ]
    },
    {
     "data": {
      "text/html": [
       "<div>\n",
       "<style scoped>\n",
       "    .dataframe tbody tr th:only-of-type {\n",
       "        vertical-align: middle;\n",
       "    }\n",
       "\n",
       "    .dataframe tbody tr th {\n",
       "        vertical-align: top;\n",
       "    }\n",
       "\n",
       "    .dataframe thead th {\n",
       "        text-align: right;\n",
       "    }\n",
       "</style>\n",
       "<table border=\"1\" class=\"dataframe\">\n",
       "  <thead>\n",
       "    <tr style=\"text-align: right;\">\n",
       "      <th></th>\n",
       "      <th>Question</th>\n",
       "      <th>Answer</th>\n",
       "    </tr>\n",
       "  </thead>\n",
       "  <tbody>\n",
       "    <tr>\n",
       "      <th>0</th>\n",
       "      <td>How do I take a screenshot on an iPhone?</td>\n",
       "      <td>To take a screenshot on an iPhone, press and h...</td>\n",
       "    </tr>\n",
       "    <tr>\n",
       "      <th>1</th>\n",
       "      <td>How do I change my wallpaper on an iPhone?</td>\n",
       "      <td>To change your wallpaper on an iPhone, go to S...</td>\n",
       "    </tr>\n",
       "    <tr>\n",
       "      <th>2</th>\n",
       "      <td>How do I make a phone call on an iPhone?</td>\n",
       "      <td>To make a phone call on an iPhone, open the Ph...</td>\n",
       "    </tr>\n",
       "    <tr>\n",
       "      <th>3</th>\n",
       "      <td>How do I send a text message on an iPhone?</td>\n",
       "      <td>To send a text message on an iPhone, open the ...</td>\n",
       "    </tr>\n",
       "    <tr>\n",
       "      <th>4</th>\n",
       "      <td>How do I use Siri on an iPhone?</td>\n",
       "      <td>To use Siri on an iPhone, press and hold the H...</td>\n",
       "    </tr>\n",
       "  </tbody>\n",
       "</table>\n",
       "</div>"
      ],
      "text/plain": [
       "                                     Question  \\\n",
       "0    How do I take a screenshot on an iPhone?   \n",
       "1  How do I change my wallpaper on an iPhone?   \n",
       "2    How do I make a phone call on an iPhone?   \n",
       "3  How do I send a text message on an iPhone?   \n",
       "4             How do I use Siri on an iPhone?   \n",
       "\n",
       "                                              Answer  \n",
       "0  To take a screenshot on an iPhone, press and h...  \n",
       "1  To change your wallpaper on an iPhone, go to S...  \n",
       "2  To make a phone call on an iPhone, open the Ph...  \n",
       "3  To send a text message on an iPhone, open the ...  \n",
       "4  To use Siri on an iPhone, press and hold the H...  "
      ]
     },
     "execution_count": 12,
     "metadata": {},
     "output_type": "execute_result"
    }
   ],
   "source": [
    "# cleaning data\n",
    "def clean_text(text):\n",
    "    if isinstance(text, str): # cek tipe data apakah string\n",
    "        # hilangkan tab/enter jadi spasi\n",
    "        text = re.sub(r\"[\\n\\t\\r\\xa0]\", \" \", text)\n",
    "\n",
    "        # hilangkan simbol aneh\n",
    "        text = re.sub(r\"[^a-zA-Z0-9\\s.,!?;:'\\\"()\\-]\", \"\", text)\n",
    "\n",
    "        # hilangkan spasi ganda jadi spasi\n",
    "        text = re.sub(r\"\\s+\", \" \", text)\n",
    "    \n",
    "        # hapus spasi depan belakang\n",
    "        return text.strip()\n",
    "    \n",
    "    return text # kalau bukan string kembalikan\n",
    "\n",
    "df = df.applymap(clean_text)\n",
    "df.head()"
   ]
  },
  {
   "cell_type": "code",
   "execution_count": 13,
   "id": "af659f90",
   "metadata": {},
   "outputs": [],
   "source": [
    "# buat csv menjadi dokumen\n",
    "documents = []\n",
    "\n",
    "for i, row in df.iterrows():\n",
    "    q = row[\"Question\"]\n",
    "    a = row[\"Answer\"]\n",
    "\n",
    "    page_content = f\"Question: {q}\\nA: {a}\"\n",
    "    metadata = {\n",
    "        \"source\": os.path.basename(file_path),\n",
    "        \"row\" : i\n",
    "    }\n",
    "\n",
    "    documents.append(Document(page_content=page_content, metadata=metadata))"
   ]
  },
  {
   "cell_type": "code",
   "execution_count": 14,
   "id": "eaa4b7d6",
   "metadata": {},
   "outputs": [
    {
     "data": {
      "text/plain": [
       "Document(metadata={'source': 'apple.csv', 'row': 0}, page_content='Question: How do I take a screenshot on an iPhone?\\nA: To take a screenshot on an iPhone, press and hold the Side button and the Volume Up button simultaneously. The screen will flash briefly, and a thumbnail of the screenshot will appear in the bottom-left corner of the screen. Tap the thumbnail to view or edit the screenshot.')"
      ]
     },
     "execution_count": 14,
     "metadata": {},
     "output_type": "execute_result"
    }
   ],
   "source": [
    "documents[0]"
   ]
  },
  {
   "cell_type": "markdown",
   "id": "db92aa07",
   "metadata": {},
   "source": [
    "# Chunking"
   ]
  },
  {
   "cell_type": "code",
   "execution_count": 15,
   "id": "d3029b89",
   "metadata": {},
   "outputs": [],
   "source": [
    "# memecah teks yang besar menjadi beberapa bagian kecil\n",
    "text_splitter = RecursiveCharacterTextSplitter(\n",
    "    chunk_size=800,\n",
    "    chunk_overlap=120\n",
    ")\n",
    "chunk = text_splitter.split_documents(documents)"
   ]
  },
  {
   "cell_type": "code",
   "execution_count": 16,
   "id": "3b5c3820",
   "metadata": {},
   "outputs": [
    {
     "name": "stdout",
     "output_type": "stream",
     "text": [
      "Total Chunk : 898\n"
     ]
    },
    {
     "data": {
      "text/plain": [
       "Document(metadata={'source': 'apple.csv', 'row': 0}, page_content='Question: How do I take a screenshot on an iPhone?\\nA: To take a screenshot on an iPhone, press and hold the Side button and the Volume Up button simultaneously. The screen will flash briefly, and a thumbnail of the screenshot will appear in the bottom-left corner of the screen. Tap the thumbnail to view or edit the screenshot.')"
      ]
     },
     "execution_count": 16,
     "metadata": {},
     "output_type": "execute_result"
    }
   ],
   "source": [
    "print(f\"Total Chunk : {len(chunk)}\")\n",
    "chunk[0]"
   ]
  },
  {
   "cell_type": "markdown",
   "id": "db6d31ea",
   "metadata": {},
   "source": [
    "# Embedding dan Vector Store"
   ]
  },
  {
   "cell_type": "code",
   "execution_count": 17,
   "id": "241da9ce",
   "metadata": {},
   "outputs": [
    {
     "name": "stderr",
     "output_type": "stream",
     "text": [
      "C:\\Users\\Arvio\\AppData\\Local\\Temp\\ipykernel_14928\\3525124050.py:2: LangChainDeprecationWarning: The class `HuggingFaceEmbeddings` was deprecated in LangChain 0.2.2 and will be removed in 1.0. An updated version of the class exists in the :class:`~langchain-huggingface package and should be used instead. To use it run `pip install -U :class:`~langchain-huggingface` and import as `from :class:`~langchain_huggingface import HuggingFaceEmbeddings``.\n",
      "  embedding_model = HuggingFaceEmbeddings(model_name=\"Qwen/Qwen3-Embedding-0.6B\")\n",
      "c:\\Users\\Arvio\\anaconda3\\envs\\langchain-env\\Lib\\site-packages\\tqdm\\auto.py:21: TqdmWarning: IProgress not found. Please update jupyter and ipywidgets. See https://ipywidgets.readthedocs.io/en/stable/user_install.html\n",
      "  from .autonotebook import tqdm as notebook_tqdm\n"
     ]
    }
   ],
   "source": [
    "# model embedding\n",
    "embedding_model = HuggingFaceEmbeddings(model_name=\"Qwen/Qwen3-Embedding-0.6B\")"
   ]
  },
  {
   "cell_type": "code",
   "execution_count": 18,
   "id": "eb424d9c",
   "metadata": {},
   "outputs": [],
   "source": [
    "# buat vektor store untuk simpan hasil perubahan dari teks ke vector angka\n",
    "vector_db = Chroma.from_documents(\n",
    "    documents = chunk,\n",
    "    persist_directory = \"chroma_db\",\n",
    "    embedding=embedding_model\n",
    ")"
   ]
  },
  {
   "cell_type": "markdown",
   "id": "6c4a9787",
   "metadata": {},
   "source": [
    "# Retriever"
   ]
  },
  {
   "cell_type": "code",
   "execution_count": 19,
   "id": "ca1ecada",
   "metadata": {},
   "outputs": [],
   "source": [
    "# retriever untuk mencari dari db hasil yang paling mirip untuk diambil\n",
    "retriever = vector_db.as_retriever(\n",
    "    search_type=\"similarity\",\n",
    "    search_kwargs={\"k\": 5}\n",
    ")"
   ]
  },
  {
   "cell_type": "code",
   "execution_count": 20,
   "id": "d4241213",
   "metadata": {},
   "outputs": [
    {
     "name": "stderr",
     "output_type": "stream",
     "text": [
      "C:\\Users\\Arvio\\AppData\\Local\\Temp\\ipykernel_14928\\4123082510.py:2: LangChainDeprecationWarning: The class `Ollama` was deprecated in LangChain 0.3.1 and will be removed in 1.0.0. An updated version of the class exists in the :class:`~langchain-ollama package and should be used instead. To use it run `pip install -U :class:`~langchain-ollama` and import as `from :class:`~langchain_ollama import OllamaLLM``.\n",
      "  llm = Ollama(model=\"llama3\")\n"
     ]
    }
   ],
   "source": [
    "# model LLM\n",
    "llm = Ollama(model=\"llama3\")"
   ]
  },
  {
   "cell_type": "code",
   "execution_count": 21,
   "id": "02ce907b",
   "metadata": {},
   "outputs": [],
   "source": [
    "# sebagai mesin tanya jawab\n",
    "qa_chain = RetrievalQA.from_chain_type(\n",
    "    llm = llm, # model yang digunakan untuk menjawab pertanyaan\n",
    "    retriever = retriever # mencari jawaban yang paling mirip dengan db\n",
    ")"
   ]
  },
  {
   "cell_type": "code",
   "execution_count": 23,
   "id": "c9444a32",
   "metadata": {},
   "outputs": [
    {
     "name": "stdout",
     "output_type": "stream",
     "text": [
      "Question : How to change wallpaper on iphone ?\n",
      "Answer : To change your wallpaper on an iPhone, go to Settings > Wallpaper. Select whether you want to change the wallpaper for your Lock Screen, Home Screen, or both. Choose from a variety of built-in wallpapers or use your own photos.\n"
     ]
    }
   ],
   "source": [
    "# test tanya jawab\n",
    "question = \"How to change wallpaper on iphone ?\"\n",
    "result = qa_chain({\"query\":question})\n",
    "answer = result[\"result\"]\n",
    "print(f\"Question : {question}\\nAnswer : {answer}\")"
   ]
  }
 ],
 "metadata": {
  "kernelspec": {
   "display_name": "langchain-env",
   "language": "python",
   "name": "python3"
  },
  "language_info": {
   "codemirror_mode": {
    "name": "ipython",
    "version": 3
   },
   "file_extension": ".py",
   "mimetype": "text/x-python",
   "name": "python",
   "nbconvert_exporter": "python",
   "pygments_lexer": "ipython3",
   "version": "3.11.13"
  }
 },
 "nbformat": 4,
 "nbformat_minor": 5
}
